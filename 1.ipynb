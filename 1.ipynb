{
 "cells": [
  {
   "cell_type": "markdown",
   "id": "523c7c18",
   "metadata": {},
   "source": [
    "1. In the below elements which of them are values or an expression? eg:- values can be \n",
    "integer or string and expressions will be mathematical operators.\n",
    "\n",
    "values -: 'hello',6\n",
    "\n",
    "expression-: +,-,*,/"
   ]
  },
  {
   "cell_type": "markdown",
   "id": "cc8e5c40",
   "metadata": {},
   "source": [
    "2.What is the difference between string and variable?\n",
    "\n",
    "String-: string is a data type in python and a sequence of character unclosed in quotes.\n",
    "\n",
    "Variable-: container to store values.\n",
    "\n",
    "ex-:   a = 'kanishk' (a is a variable and chatacter unclosed in quote is its string value)"
   ]
  },
  {
   "cell_type": "markdown",
   "id": "e3ae6391",
   "metadata": {},
   "source": [
    "3. Describe three different data types.\n",
    "\n",
    "There are following data types in python-\n",
    "\n",
    "1) integer(int)\n",
    "2) floating(float-decimal no)\n",
    "3) strings\n",
    "4) boolean\n",
    "5) none\n",
    "\n"
   ]
  },
  {
   "cell_type": "code",
   "execution_count": 5,
   "id": "0500af86",
   "metadata": {},
   "outputs": [
    {
     "name": "stdout",
     "output_type": "stream",
     "text": [
      "<class 'int'>\n",
      "<class 'float'>\n",
      "<class 'str'>\n"
     ]
    }
   ],
   "source": [
    "\n",
    "\n",
    "a = 30\n",
    "b = 33.33\n",
    "c = \"kanishk\"\n",
    "\n",
    "print(type(a))\n",
    "print(type(b))\n",
    "print(type(c))"
   ]
  },
  {
   "cell_type": "markdown",
   "id": "4af84507",
   "metadata": {},
   "source": [
    "4. What is an expression made up of? What do all expressions do?\n",
    "\n",
    "expression are made up of by using operand(3x,2y) and operator(+,-,*,/) like 3x+2y , following are some comman operator in python-:\n",
    "\n",
    "1) arithmetic operator ( + , - , * , / etc.)\n",
    "2) assignment operator ( = , += , -= etc.)\n",
    "3) comparision operator ( == , > , >=, < , != etc)\n",
    "4) logical operator (and , or , not)"
   ]
  },
  {
   "cell_type": "markdown",
   "id": "40d5a700",
   "metadata": {},
   "source": [
    "5. This assignment statements, like spam = 10. What is the difference between an \n",
    "   expression and a statement?\n",
    "\n",
    " spam =10 , spam is a variable and 10 is a int value which is store in a spam variable, the = sign is assigning\n",
    " that spam have a value of 10.\n",
    "    \n",
    " a expression is a combination of operand and operator which is stored in a variable like a = 2+3x+4y]\n",
    " \n",
    " statement normally go to the end of line like\n",
    " \n",
    " x = 5\n",
    " print(x)\n",
    " \n",
    " area = x**2\n",
    " print(area)\n",
    " \n",
    " by using if,elif,else conditional expression we will make a multiple statement\n",
    "  "
   ]
  },
  {
   "cell_type": "code",
   "execution_count": 6,
   "id": "7270f8a7",
   "metadata": {},
   "outputs": [
    {
     "data": {
      "text/plain": [
       "23"
      ]
     },
     "execution_count": 6,
     "metadata": {},
     "output_type": "execute_result"
    }
   ],
   "source": [
    "'''6. After running the following code, what does the variable bacon contain?\n",
    "bacon = 22\n",
    "bacon + 1'''\n",
    "\n",
    "bacon = 22\n",
    "bacon +1"
   ]
  },
  {
   "cell_type": "code",
   "execution_count": 7,
   "id": "57a1fcc8",
   "metadata": {},
   "outputs": [
    {
     "data": {
      "text/plain": [
       "22"
      ]
     },
     "execution_count": 7,
     "metadata": {},
     "output_type": "execute_result"
    }
   ],
   "source": [
    "bacon"
   ]
  },
  {
   "cell_type": "code",
   "execution_count": 9,
   "id": "0cb74d84",
   "metadata": {},
   "outputs": [
    {
     "data": {
      "text/plain": [
       "'spamspamspam'"
      ]
     },
     "execution_count": 9,
     "metadata": {},
     "output_type": "execute_result"
    }
   ],
   "source": [
    "''' 7. What should the values of the following two terms be?\n",
    "'spam' + 'spamspam'\n",
    "'spam' * 3 '''\n",
    "\n",
    "'spam' + 'spamspam'\n"
   ]
  },
  {
   "cell_type": "code",
   "execution_count": 10,
   "id": "b9a98783",
   "metadata": {},
   "outputs": [
    {
     "data": {
      "text/plain": [
       "'spamspamspam'"
      ]
     },
     "execution_count": 10,
     "metadata": {},
     "output_type": "execute_result"
    }
   ],
   "source": [
    "'spam' * 3 "
   ]
  },
  {
   "cell_type": "markdown",
   "id": "749d9077",
   "metadata": {},
   "source": [
    "8. Why is eggs a valid variable name while 100 is invalid?\n",
    "\n",
    "there are certain rules for defining a variable name-:\n",
    "\n",
    "- a variable name can contains alphabete,digites and underscores.\n",
    "- variable start with an alphabet and underscore not with digit.\n",
    "- no while space is allowed to be used inside a variable name."
   ]
  },
  {
   "cell_type": "code",
   "execution_count": 11,
   "id": "59adb83c",
   "metadata": {},
   "outputs": [],
   "source": [
    " a = 45"
   ]
  },
  {
   "cell_type": "code",
   "execution_count": 12,
   "id": "31deb7f6",
   "metadata": {},
   "outputs": [],
   "source": [
    "_a = 46"
   ]
  },
  {
   "cell_type": "code",
   "execution_count": 13,
   "id": "501b974e",
   "metadata": {},
   "outputs": [
    {
     "ename": "SyntaxError",
     "evalue": "invalid syntax (4091882044.py, line 1)",
     "output_type": "error",
     "traceback": [
      "\u001b[1;36m  Input \u001b[1;32mIn [13]\u001b[1;36m\u001b[0m\n\u001b[1;33m    4a = 47\u001b[0m\n\u001b[1;37m     ^\u001b[0m\n\u001b[1;31mSyntaxError\u001b[0m\u001b[1;31m:\u001b[0m invalid syntax\n"
     ]
    }
   ],
   "source": [
    "4a = 47"
   ]
  },
  {
   "cell_type": "markdown",
   "id": "a68ff894",
   "metadata": {},
   "source": [
    "9. What three functions can be used to get the integer, floating-point number, or string \n",
    "   version of a value?\n",
    " \n",
    " int()\n",
    " float()\n",
    " str()"
   ]
  },
  {
   "cell_type": "code",
   "execution_count": 14,
   "id": "b4f0dd73",
   "metadata": {},
   "outputs": [
    {
     "ename": "TypeError",
     "evalue": "can only concatenate str (not \"int\") to str",
     "output_type": "error",
     "traceback": [
      "\u001b[1;31m---------------------------------------------------------------------------\u001b[0m",
      "\u001b[1;31mTypeError\u001b[0m                                 Traceback (most recent call last)",
      "Input \u001b[1;32mIn [14]\u001b[0m, in \u001b[0;36m<cell line: 3>\u001b[1;34m()\u001b[0m\n\u001b[0;32m      1\u001b[0m \u001b[38;5;66;03m# 10. Why does this expression cause an error? How can you fix it?\u001b[39;00m\n\u001b[1;32m----> 3\u001b[0m \u001b[38;5;124;43m'\u001b[39;49m\u001b[38;5;124;43mI have eaten \u001b[39;49m\u001b[38;5;124;43m'\u001b[39;49m\u001b[43m \u001b[49m\u001b[38;5;241;43m+\u001b[39;49m\u001b[43m \u001b[49m\u001b[38;5;241;43m99\u001b[39;49m \u001b[38;5;241m+\u001b[39m \u001b[38;5;124m'\u001b[39m\u001b[38;5;124m burritos\u001b[39m\u001b[38;5;124m'\u001b[39m\n",
      "\u001b[1;31mTypeError\u001b[0m: can only concatenate str (not \"int\") to str"
     ]
    }
   ],
   "source": [
    "# 10. Why does this expression cause an error? How can you fix it?\n",
    "\n",
    "'I have eaten ' + 99 + ' burritos'"
   ]
  },
  {
   "cell_type": "code",
   "execution_count": 15,
   "id": "10dc43f5",
   "metadata": {},
   "outputs": [
    {
     "data": {
      "text/plain": [
       "'I have eaten 99 burritos'"
      ]
     },
     "execution_count": 15,
     "metadata": {},
     "output_type": "execute_result"
    }
   ],
   "source": [
    "# type is not same\n",
    "\n",
    "'I have eaten ' + '99'+ ' burritos'\n"
   ]
  },
  {
   "cell_type": "code",
   "execution_count": null,
   "id": "c23b8f4a",
   "metadata": {},
   "outputs": [],
   "source": []
  }
 ],
 "metadata": {
  "kernelspec": {
   "display_name": "Python 3 (ipykernel)",
   "language": "python",
   "name": "python3"
  },
  "language_info": {
   "codemirror_mode": {
    "name": "ipython",
    "version": 3
   },
   "file_extension": ".py",
   "mimetype": "text/x-python",
   "name": "python",
   "nbconvert_exporter": "python",
   "pygments_lexer": "ipython3",
   "version": "3.9.12"
  }
 },
 "nbformat": 4,
 "nbformat_minor": 5
}
